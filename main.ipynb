{
 "cells": [
  {
   "cell_type": "code",
   "execution_count": 1,
   "id": "d0786db7",
   "metadata": {},
   "outputs": [
    {
     "name": "stdout",
     "output_type": "stream",
     "text": [
      "\u001b[33mDEPRECATION: Configuring installation scheme with distutils config files is deprecated and will no longer work in the near future. If you are using a Homebrew or Linuxbrew Python, please see discussion at https://github.com/Homebrew/homebrew-core/issues/76621\u001b[0m\u001b[33m\n",
      "\u001b[0mCollecting albumentations@ git+https://github.com/albumentations-team/albumentations@6c16e391d407849c68b0a964ac3e4458a02205c4\n",
      "  Using cached albumentations-1.3.0-py3-none-any.whl\n",
      "Requirement already satisfied: absl-py==1.2.0 in /usr/local/lib/python3.9/site-packages (from -r requirements.txt (line 1)) (1.2.0)\n",
      "Requirement already satisfied: appnope==0.1.3 in /usr/local/lib/python3.9/site-packages (from -r requirements.txt (line 3)) (0.1.3)\n",
      "Requirement already satisfied: argon2-cffi==21.3.0 in /usr/local/lib/python3.9/site-packages (from -r requirements.txt (line 4)) (21.3.0)\n",
      "Requirement already satisfied: argon2-cffi-bindings==21.2.0 in /usr/local/lib/python3.9/site-packages (from -r requirements.txt (line 5)) (21.2.0)\n",
      "Requirement already satisfied: asttokens==2.0.8 in /usr/local/lib/python3.9/site-packages (from -r requirements.txt (line 6)) (2.0.8)\n",
      "Requirement already satisfied: attrs==22.1.0 in /usr/local/lib/python3.9/site-packages (from -r requirements.txt (line 7)) (22.1.0)\n",
      "Requirement already satisfied: backcall==0.2.0 in /usr/local/lib/python3.9/site-packages (from -r requirements.txt (line 8)) (0.2.0)\n",
      "Requirement already satisfied: beautifulsoup4==4.11.1 in /usr/local/lib/python3.9/site-packages (from -r requirements.txt (line 9)) (4.11.1)\n",
      "Requirement already satisfied: bleach==5.0.1 in /usr/local/lib/python3.9/site-packages (from -r requirements.txt (line 10)) (5.0.1)\n",
      "Requirement already satisfied: cachetools==5.2.0 in /usr/local/lib/python3.9/site-packages (from -r requirements.txt (line 11)) (5.2.0)\n",
      "Requirement already satisfied: certifi==2022.9.24 in /usr/local/lib/python3.9/site-packages (from -r requirements.txt (line 12)) (2022.9.24)\n",
      "Requirement already satisfied: cffi==1.15.1 in /usr/local/lib/python3.9/site-packages (from -r requirements.txt (line 13)) (1.15.1)\n",
      "Requirement already satisfied: charset-normalizer==2.1.1 in /usr/local/lib/python3.9/site-packages (from -r requirements.txt (line 14)) (2.1.1)\n",
      "Requirement already satisfied: contourpy==1.0.5 in /usr/local/lib/python3.9/site-packages (from -r requirements.txt (line 15)) (1.0.5)\n",
      "Requirement already satisfied: cycler==0.11.0 in /usr/local/lib/python3.9/site-packages (from -r requirements.txt (line 16)) (0.11.0)\n",
      "Requirement already satisfied: debugpy==1.6.3 in /usr/local/lib/python3.9/site-packages (from -r requirements.txt (line 17)) (1.6.3)\n",
      "Requirement already satisfied: decorator==5.1.1 in /usr/local/lib/python3.9/site-packages (from -r requirements.txt (line 18)) (5.1.1)\n",
      "Requirement already satisfied: defusedxml==0.7.1 in /usr/local/lib/python3.9/site-packages (from -r requirements.txt (line 19)) (0.7.1)\n",
      "Requirement already satisfied: entrypoints==0.4 in /usr/local/lib/python3.9/site-packages (from -r requirements.txt (line 20)) (0.4)\n",
      "Requirement already satisfied: executing==1.1.1 in /usr/local/lib/python3.9/site-packages (from -r requirements.txt (line 21)) (1.1.1)\n",
      "Requirement already satisfied: fastjsonschema==2.16.2 in /usr/local/lib/python3.9/site-packages (from -r requirements.txt (line 22)) (2.16.2)\n",
      "Requirement already satisfied: fonttools==4.37.4 in /usr/local/lib/python3.9/site-packages (from -r requirements.txt (line 23)) (4.37.4)\n",
      "Requirement already satisfied: google-auth==2.12.0 in /usr/local/lib/python3.9/site-packages (from -r requirements.txt (line 24)) (2.12.0)\n",
      "Requirement already satisfied: google-auth-oauthlib==0.4.6 in /usr/local/lib/python3.9/site-packages (from -r requirements.txt (line 25)) (0.4.6)\n",
      "Requirement already satisfied: grpcio==1.49.1 in /usr/local/lib/python3.9/site-packages (from -r requirements.txt (line 26)) (1.49.1)\n",
      "Requirement already satisfied: idna==3.4 in /usr/local/lib/python3.9/site-packages (from -r requirements.txt (line 27)) (3.4)\n",
      "Requirement already satisfied: imageio==2.22.1 in /usr/local/lib/python3.9/site-packages (from -r requirements.txt (line 28)) (2.22.1)\n",
      "Requirement already satisfied: importlib-metadata==5.0.0 in /usr/local/lib/python3.9/site-packages (from -r requirements.txt (line 29)) (5.0.0)\n",
      "Requirement already satisfied: ipykernel==6.16.0 in /usr/local/lib/python3.9/site-packages (from -r requirements.txt (line 30)) (6.16.0)\n",
      "Requirement already satisfied: ipython==8.5.0 in /usr/local/lib/python3.9/site-packages (from -r requirements.txt (line 31)) (8.5.0)\n",
      "Requirement already satisfied: ipython-genutils==0.2.0 in /usr/local/lib/python3.9/site-packages (from -r requirements.txt (line 32)) (0.2.0)\n",
      "Requirement already satisfied: ipywidgets==8.0.2 in /usr/local/lib/python3.9/site-packages (from -r requirements.txt (line 33)) (8.0.2)\n",
      "Requirement already satisfied: jedi==0.18.1 in /usr/local/lib/python3.9/site-packages (from -r requirements.txt (line 34)) (0.18.1)\n",
      "Requirement already satisfied: Jinja2==3.1.2 in /usr/local/lib/python3.9/site-packages (from -r requirements.txt (line 35)) (3.1.2)\n",
      "Requirement already satisfied: joblib==1.2.0 in /usr/local/lib/python3.9/site-packages (from -r requirements.txt (line 36)) (1.2.0)\n",
      "Requirement already satisfied: jsonschema==4.16.0 in /usr/local/lib/python3.9/site-packages (from -r requirements.txt (line 37)) (4.16.0)\n",
      "Requirement already satisfied: jupyter==1.0.0 in /usr/local/lib/python3.9/site-packages (from -r requirements.txt (line 38)) (1.0.0)\n",
      "Requirement already satisfied: jupyter-console==6.4.4 in /usr/local/lib/python3.9/site-packages (from -r requirements.txt (line 39)) (6.4.4)\n",
      "Requirement already satisfied: jupyter-core==4.11.1 in /usr/local/lib/python3.9/site-packages (from -r requirements.txt (line 40)) (4.11.1)\n",
      "Requirement already satisfied: jupyter_client==7.4.2 in /usr/local/lib/python3.9/site-packages (from -r requirements.txt (line 41)) (7.4.2)\n",
      "Requirement already satisfied: jupyterlab-pygments==0.2.2 in /usr/local/lib/python3.9/site-packages (from -r requirements.txt (line 42)) (0.2.2)\n",
      "Requirement already satisfied: jupyterlab-widgets==3.0.3 in /usr/local/lib/python3.9/site-packages (from -r requirements.txt (line 43)) (3.0.3)\n",
      "Requirement already satisfied: kiwisolver==1.4.4 in /usr/local/lib/python3.9/site-packages (from -r requirements.txt (line 44)) (1.4.4)\n",
      "Requirement already satisfied: Markdown==3.4.1 in /usr/local/lib/python3.9/site-packages (from -r requirements.txt (line 45)) (3.4.1)\n",
      "Requirement already satisfied: MarkupSafe==2.1.1 in /usr/local/lib/python3.9/site-packages (from -r requirements.txt (line 46)) (2.1.1)\n",
      "Requirement already satisfied: matplotlib==3.6.0 in /usr/local/lib/python3.9/site-packages (from -r requirements.txt (line 47)) (3.6.0)\n",
      "Requirement already satisfied: matplotlib-inline==0.1.6 in /usr/local/lib/python3.9/site-packages (from -r requirements.txt (line 48)) (0.1.6)\n",
      "Requirement already satisfied: mistune==2.0.4 in /usr/local/lib/python3.9/site-packages (from -r requirements.txt (line 49)) (2.0.4)\n",
      "Requirement already satisfied: nbclient==0.7.0 in /usr/local/lib/python3.9/site-packages (from -r requirements.txt (line 50)) (0.7.0)\n",
      "Requirement already satisfied: nbconvert==7.2.1 in /usr/local/lib/python3.9/site-packages (from -r requirements.txt (line 51)) (7.2.1)\n",
      "Requirement already satisfied: nbformat==5.7.0 in /usr/local/lib/python3.9/site-packages (from -r requirements.txt (line 52)) (5.7.0)\n",
      "Requirement already satisfied: nest-asyncio==1.5.6 in /usr/local/lib/python3.9/site-packages (from -r requirements.txt (line 53)) (1.5.6)\n",
      "Requirement already satisfied: networkx==2.8.7 in /usr/local/lib/python3.9/site-packages (from -r requirements.txt (line 54)) (2.8.7)\n",
      "Requirement already satisfied: notebook==6.4.12 in /usr/local/lib/python3.9/site-packages (from -r requirements.txt (line 55)) (6.4.12)\n",
      "Requirement already satisfied: numpy==1.23.3 in /usr/local/lib/python3.9/site-packages (from -r requirements.txt (line 56)) (1.23.3)\n",
      "Requirement already satisfied: oauthlib==3.2.1 in /usr/local/lib/python3.9/site-packages (from -r requirements.txt (line 57)) (3.2.1)\n",
      "Requirement already satisfied: opencv-python==4.5.5.64 in /usr/local/lib/python3.9/site-packages (from -r requirements.txt (line 58)) (4.5.5.64)\n",
      "Requirement already satisfied: opencv-python-headless==4.6.0.66 in /usr/local/lib/python3.9/site-packages (from -r requirements.txt (line 59)) (4.6.0.66)\n",
      "Requirement already satisfied: packaging==21.3 in /usr/local/lib/python3.9/site-packages (from -r requirements.txt (line 60)) (21.3)\n",
      "Requirement already satisfied: pandas==1.5.0 in /usr/local/lib/python3.9/site-packages (from -r requirements.txt (line 61)) (1.5.0)\n",
      "Requirement already satisfied: pandocfilters==1.5.0 in /usr/local/lib/python3.9/site-packages (from -r requirements.txt (line 62)) (1.5.0)\n",
      "Requirement already satisfied: parso==0.8.3 in /usr/local/lib/python3.9/site-packages (from -r requirements.txt (line 63)) (0.8.3)\n",
      "Requirement already satisfied: pexpect==4.8.0 in /usr/local/lib/python3.9/site-packages (from -r requirements.txt (line 64)) (4.8.0)\n",
      "Requirement already satisfied: pickleshare==0.7.5 in /usr/local/lib/python3.9/site-packages (from -r requirements.txt (line 65)) (0.7.5)\n",
      "Requirement already satisfied: Pillow==9.2.0 in /usr/local/lib/python3.9/site-packages (from -r requirements.txt (line 66)) (9.2.0)\n",
      "Requirement already satisfied: prometheus-client==0.14.1 in /usr/local/lib/python3.9/site-packages (from -r requirements.txt (line 67)) (0.14.1)\n",
      "Requirement already satisfied: prompt-toolkit==3.0.31 in /usr/local/lib/python3.9/site-packages (from -r requirements.txt (line 68)) (3.0.31)\n",
      "Requirement already satisfied: protobuf==3.19.6 in /usr/local/lib/python3.9/site-packages (from -r requirements.txt (line 69)) (3.19.6)\n",
      "Requirement already satisfied: psutil==5.9.2 in /usr/local/lib/python3.9/site-packages (from -r requirements.txt (line 70)) (5.9.2)\n",
      "Requirement already satisfied: ptyprocess==0.7.0 in /usr/local/lib/python3.9/site-packages (from -r requirements.txt (line 71)) (0.7.0)\n",
      "Requirement already satisfied: pure-eval==0.2.2 in /usr/local/lib/python3.9/site-packages (from -r requirements.txt (line 72)) (0.2.2)\n",
      "Requirement already satisfied: pyasn1==0.4.8 in /usr/local/lib/python3.9/site-packages (from -r requirements.txt (line 73)) (0.4.8)\n",
      "Requirement already satisfied: pyasn1-modules==0.2.8 in /usr/local/lib/python3.9/site-packages (from -r requirements.txt (line 74)) (0.2.8)\n",
      "Requirement already satisfied: pycparser==2.21 in /usr/local/lib/python3.9/site-packages (from -r requirements.txt (line 75)) (2.21)\n",
      "Requirement already satisfied: Pygments==2.13.0 in /usr/local/lib/python3.9/site-packages (from -r requirements.txt (line 76)) (2.13.0)\n",
      "Requirement already satisfied: pyparsing==3.0.9 in /usr/local/lib/python3.9/site-packages (from -r requirements.txt (line 77)) (3.0.9)\n",
      "Requirement already satisfied: pyrsistent==0.18.1 in /usr/local/lib/python3.9/site-packages (from -r requirements.txt (line 78)) (0.18.1)\n",
      "Requirement already satisfied: python-dateutil==2.8.2 in /usr/local/lib/python3.9/site-packages (from -r requirements.txt (line 79)) (2.8.2)\n",
      "Requirement already satisfied: pytz==2022.4 in /usr/local/lib/python3.9/site-packages (from -r requirements.txt (line 80)) (2022.4)\n",
      "Requirement already satisfied: PyWavelets==1.4.1 in /usr/local/lib/python3.9/site-packages (from -r requirements.txt (line 81)) (1.4.1)\n",
      "Requirement already satisfied: PyYAML==6.0 in /usr/local/lib/python3.9/site-packages (from -r requirements.txt (line 82)) (6.0)\n",
      "Requirement already satisfied: pyzmq==24.0.1 in /usr/local/lib/python3.9/site-packages (from -r requirements.txt (line 83)) (24.0.1)\n",
      "Requirement already satisfied: qtconsole==5.3.2 in /usr/local/lib/python3.9/site-packages (from -r requirements.txt (line 84)) (5.3.2)\n",
      "Requirement already satisfied: QtPy==2.2.1 in /usr/local/lib/python3.9/site-packages (from -r requirements.txt (line 85)) (2.2.1)\n",
      "Requirement already satisfied: qudida==0.0.4 in /usr/local/lib/python3.9/site-packages (from -r requirements.txt (line 86)) (0.0.4)\n",
      "Requirement already satisfied: requests==2.28.1 in /usr/local/lib/python3.9/site-packages (from -r requirements.txt (line 87)) (2.28.1)\n"
     ]
    },
    {
     "name": "stdout",
     "output_type": "stream",
     "text": [
      "Requirement already satisfied: requests-oauthlib==1.3.1 in /usr/local/lib/python3.9/site-packages (from -r requirements.txt (line 88)) (1.3.1)\n",
      "Requirement already satisfied: rsa==4.9 in /usr/local/lib/python3.9/site-packages (from -r requirements.txt (line 89)) (4.9)\n",
      "Requirement already satisfied: scikit-image==0.19.3 in /usr/local/lib/python3.9/site-packages (from -r requirements.txt (line 90)) (0.19.3)\n",
      "Requirement already satisfied: scikit-learn==1.1.2 in /usr/local/lib/python3.9/site-packages (from -r requirements.txt (line 91)) (1.1.2)\n",
      "Requirement already satisfied: scipy==1.9.1 in /usr/local/lib/python3.9/site-packages (from -r requirements.txt (line 92)) (1.9.1)\n",
      "Requirement already satisfied: Send2Trash==1.8.0 in /usr/local/lib/python3.9/site-packages (from -r requirements.txt (line 93)) (1.8.0)\n",
      "Requirement already satisfied: six==1.16.0 in /usr/local/lib/python3.9/site-packages (from -r requirements.txt (line 94)) (1.16.0)\n",
      "Requirement already satisfied: sklearn==0.0 in /usr/local/lib/python3.9/site-packages (from -r requirements.txt (line 95)) (0.0)\n",
      "Requirement already satisfied: soupsieve==2.3.2.post1 in /usr/local/lib/python3.9/site-packages (from -r requirements.txt (line 96)) (2.3.2.post1)\n",
      "Requirement already satisfied: stack-data==0.5.1 in /usr/local/lib/python3.9/site-packages (from -r requirements.txt (line 97)) (0.5.1)\n",
      "Requirement already satisfied: tensorboard==2.10.1 in /usr/local/lib/python3.9/site-packages (from -r requirements.txt (line 98)) (2.10.1)\n",
      "Requirement already satisfied: tensorboard-data-server==0.6.1 in /usr/local/lib/python3.9/site-packages (from -r requirements.txt (line 99)) (0.6.1)\n",
      "Requirement already satisfied: tensorboard-plugin-wit==1.8.1 in /usr/local/lib/python3.9/site-packages (from -r requirements.txt (line 100)) (1.8.1)\n",
      "Requirement already satisfied: terminado==0.16.0 in /usr/local/lib/python3.9/site-packages (from -r requirements.txt (line 101)) (0.16.0)\n",
      "Requirement already satisfied: threadpoolctl==3.1.0 in /usr/local/lib/python3.9/site-packages (from -r requirements.txt (line 102)) (3.1.0)\n",
      "Requirement already satisfied: tifffile==2022.8.12 in /usr/local/lib/python3.9/site-packages (from -r requirements.txt (line 103)) (2022.8.12)\n",
      "Requirement already satisfied: tinycss2==1.1.1 in /usr/local/lib/python3.9/site-packages (from -r requirements.txt (line 104)) (1.1.1)\n",
      "Requirement already satisfied: torch==1.12.1 in /usr/local/lib/python3.9/site-packages (from -r requirements.txt (line 105)) (1.12.1)\n",
      "Requirement already satisfied: torchvision==0.13.1 in /usr/local/lib/python3.9/site-packages (from -r requirements.txt (line 106)) (0.13.1)\n",
      "Requirement already satisfied: tornado==6.2 in /usr/local/lib/python3.9/site-packages (from -r requirements.txt (line 107)) (6.2)\n",
      "Requirement already satisfied: tqdm==4.64.1 in /usr/local/lib/python3.9/site-packages (from -r requirements.txt (line 108)) (4.64.1)\n",
      "Requirement already satisfied: traitlets==5.4.0 in /usr/local/lib/python3.9/site-packages (from -r requirements.txt (line 109)) (5.4.0)\n",
      "Requirement already satisfied: typing_extensions==4.3.0 in /usr/local/lib/python3.9/site-packages (from -r requirements.txt (line 110)) (4.3.0)\n",
      "Requirement already satisfied: urllib3==1.26.12 in /usr/local/lib/python3.9/site-packages (from -r requirements.txt (line 111)) (1.26.12)\n",
      "Requirement already satisfied: wcwidth==0.2.5 in /usr/local/lib/python3.9/site-packages (from -r requirements.txt (line 112)) (0.2.5)\n",
      "Requirement already satisfied: webencodings==0.5.1 in /usr/local/lib/python3.9/site-packages (from -r requirements.txt (line 113)) (0.5.1)\n",
      "Requirement already satisfied: Werkzeug==2.2.2 in /usr/local/lib/python3.9/site-packages (from -r requirements.txt (line 114)) (2.2.2)\n",
      "Requirement already satisfied: wget==3.2 in /usr/local/lib/python3.9/site-packages (from -r requirements.txt (line 115)) (3.2)\n",
      "Requirement already satisfied: widgetsnbextension==4.0.3 in /usr/local/lib/python3.9/site-packages (from -r requirements.txt (line 116)) (4.0.3)\n",
      "Requirement already satisfied: zenodo-get==1.3.4 in /usr/local/lib/python3.9/site-packages (from -r requirements.txt (line 117)) (1.3.4)\n",
      "Requirement already satisfied: zipp==3.9.0 in /usr/local/lib/python3.9/site-packages (from -r requirements.txt (line 118)) (3.9.0)\n",
      "Requirement already satisfied: wheel>=0.26 in /usr/local/lib/python3.9/site-packages (from tensorboard==2.10.1->-r requirements.txt (line 98)) (0.37.1)\n",
      "Requirement already satisfied: setuptools>=41.0.0 in /usr/local/lib/python3.9/site-packages (from tensorboard==2.10.1->-r requirements.txt (line 98)) (62.3.2)\n",
      "\u001b[33mDEPRECATION: Configuring installation scheme with distutils config files is deprecated and will no longer work in the near future. If you are using a Homebrew or Linuxbrew Python, please see discussion at https://github.com/Homebrew/homebrew-core/issues/76621\u001b[0m\u001b[33m\n",
      "\u001b[0m\u001b[33mWARNING: There was an error checking the latest version of pip.\u001b[0m\u001b[33m\n",
      "\u001b[0m"
     ]
    }
   ],
   "source": [
    "!pip3 install -r requirements.txt"
   ]
  },
  {
   "cell_type": "code",
   "execution_count": 2,
   "id": "5828bce5",
   "metadata": {},
   "outputs": [],
   "source": [
    "from utils.data_loading import get_data_loaders\n",
    "from utils.trainers import train_one_epoch\n",
    "from utils.models import get_deep_lab_v3\n",
    "import torch\n",
    "from config import *\n",
    "\n",
    "\n"
   ]
  },
  {
   "cell_type": "code",
   "execution_count": 3,
   "id": "c5d9e7e4",
   "metadata": {},
   "outputs": [
    {
     "name": "stdout",
     "output_type": "stream",
     "text": [
      "Requirement already satisfied: matplotlib in ./venv/lib/python3.9/site-packages (3.6.0)\n",
      "Requirement already satisfied: kiwisolver>=1.0.1 in ./venv/lib/python3.9/site-packages (from matplotlib) (1.4.4)\n",
      "Requirement already satisfied: python-dateutil>=2.7 in ./venv/lib/python3.9/site-packages (from matplotlib) (2.8.2)\n",
      "Requirement already satisfied: pyparsing>=2.2.1 in ./venv/lib/python3.9/site-packages (from matplotlib) (3.0.9)\n",
      "Requirement already satisfied: packaging>=20.0 in ./venv/lib/python3.9/site-packages (from matplotlib) (21.3)\n",
      "Requirement already satisfied: fonttools>=4.22.0 in ./venv/lib/python3.9/site-packages (from matplotlib) (4.37.4)\n",
      "Requirement already satisfied: pillow>=6.2.0 in ./venv/lib/python3.9/site-packages (from matplotlib) (9.2.0)\n",
      "Requirement already satisfied: contourpy>=1.0.1 in ./venv/lib/python3.9/site-packages (from matplotlib) (1.0.5)\n",
      "Requirement already satisfied: cycler>=0.10 in ./venv/lib/python3.9/site-packages (from matplotlib) (0.11.0)\n",
      "Requirement already satisfied: numpy>=1.19 in ./venv/lib/python3.9/site-packages (from matplotlib) (1.23.3)\n",
      "Requirement already satisfied: six>=1.5 in ./venv/lib/python3.9/site-packages (from python-dateutil>=2.7->matplotlib) (1.16.0)\n",
      "\u001b[33mWARNING: You are using pip version 21.3.1; however, version 22.2.2 is available.\n",
      "You should consider upgrading via the '/Users/andriizelenko/qvuer7/projects/CV_main_tasks/venv/bin/python -m pip install --upgrade pip' command.\u001b[0m\n"
     ]
    }
   ],
   "source": [
    "train_loader, val_loader = get_data_loaders()\n",
    "print('train loaders created')\n",
    "model = get_deep_lab_v3()\n",
    "print('model created')\n",
    "criterion = torch.nn.MSELoss(reduction = 'mean')\n",
    "optimizer = torch.optim.Adam(model.parameters(), lr = LR)\n",
    "train_loss = train_one_epoch(model = model, criterion = criterion, optimizer = optimizer, dataLoader = train_loader)\n",
    "print('one epoch trained created')\n",
    "print(train_loss)"
   ]
  },
  {
   "cell_type": "code",
   "execution_count": 10,
   "id": "3a1aaf2d",
   "metadata": {},
   "outputs": [
    {
     "name": "stdout",
     "output_type": "stream",
     "text": [
      "\u001b[33mDEPRECATION: Configuring installation scheme with distutils config files is deprecated and will no longer work in the near future. If you are using a Homebrew or Linuxbrew Python, please see discussion at https://github.com/Homebrew/homebrew-core/issues/76621\u001b[0m\u001b[33m\n",
      "\u001b[0mCollecting opencv-python==4.5.5.64\n",
      "  Downloading opencv_python-4.5.5.64-cp36-abi3-macosx_10_15_x86_64.whl (46.3 MB)\n",
      "\u001b[2K     \u001b[90m━━━━━━━━━━━━━━━━━━━━━━━━━━━━━━━━━━━━━━━━\u001b[0m \u001b[32m46.3/46.3 MB\u001b[0m \u001b[31m7.6 MB/s\u001b[0m eta \u001b[36m0:00:00\u001b[0m00:01\u001b[0m00:01\u001b[0m\n",
      "\u001b[?25hRequirement already satisfied: numpy>=1.17.3 in /usr/local/lib/python3.9/site-packages (from opencv-python==4.5.5.64) (1.23.3)\n",
      "Installing collected packages: opencv-python\n",
      "  Attempting uninstall: opencv-python\n",
      "    Found existing installation: opencv-python 4.5.4.60\n",
      "    Uninstalling opencv-python-4.5.4.60:\n",
      "      Successfully uninstalled opencv-python-4.5.4.60\n",
      "\u001b[33m  DEPRECATION: Configuring installation scheme with distutils config files is deprecated and will no longer work in the near future. If you are using a Homebrew or Linuxbrew Python, please see discussion at https://github.com/Homebrew/homebrew-core/issues/76621\u001b[0m\u001b[33m\n",
      "\u001b[0m\u001b[33mDEPRECATION: Configuring installation scheme with distutils config files is deprecated and will no longer work in the near future. If you are using a Homebrew or Linuxbrew Python, please see discussion at https://github.com/Homebrew/homebrew-core/issues/76621\u001b[0m\u001b[33m\n",
      "\u001b[0mSuccessfully installed opencv-python-4.5.5.64\n",
      "\u001b[33mWARNING: There was an error checking the latest version of pip.\u001b[0m\u001b[33m\n",
      "\u001b[0mNote: you may need to restart the kernel to use updated packages.\n"
     ]
    }
   ],
   "source": [
    "pip install opencv-python==4.5.5.64"
   ]
  },
  {
   "cell_type": "code",
   "execution_count": 11,
   "id": "d64d1ee1",
   "metadata": {},
   "outputs": [
    {
     "name": "stderr",
     "output_type": "stream",
     "text": [
      "objc[44746]: Class CaptureDelegate is implemented in both /usr/local/lib/python3.9/site-packages/cv2/cv2.cpython-39-darwin.so (0x148d8a938) and /usr/local/lib/python3.9/site-packages/cv2/cv2.abi3.so (0x156806980). One of the two will be used. Which one is undefined.\n",
      "objc[44746]: Class CVWindow is implemented in both /usr/local/lib/python3.9/site-packages/cv2/cv2.cpython-39-darwin.so (0x148d8a988) and /usr/local/lib/python3.9/site-packages/cv2/cv2.abi3.so (0x1568069d0). One of the two will be used. Which one is undefined.\n",
      "objc[44746]: Class CVView is implemented in both /usr/local/lib/python3.9/site-packages/cv2/cv2.cpython-39-darwin.so (0x148d8a9b0) and /usr/local/lib/python3.9/site-packages/cv2/cv2.abi3.so (0x1568069f8). One of the two will be used. Which one is undefined.\n",
      "objc[44746]: Class CVSlider is implemented in both /usr/local/lib/python3.9/site-packages/cv2/cv2.cpython-39-darwin.so (0x148d8a9d8) and /usr/local/lib/python3.9/site-packages/cv2/cv2.abi3.so (0x156806a20). One of the two will be used. Which one is undefined.\n"
     ]
    }
   ],
   "source": [
    "import cv2"
   ]
  },
  {
   "cell_type": "code",
   "execution_count": 12,
   "id": "10e75222",
   "metadata": {},
   "outputs": [
    {
     "data": {
      "text/plain": [
       "<module 'cv2' from '/usr/local/lib/python3.9/site-packages/cv2/__init__.py'>"
      ]
     },
     "execution_count": 12,
     "metadata": {},
     "output_type": "execute_result"
    }
   ],
   "source": [
    "cv2"
   ]
  },
  {
   "cell_type": "code",
   "execution_count": 2,
   "id": "a4a3038f",
   "metadata": {},
   "outputs": [
    {
     "name": "stdout",
     "output_type": "stream",
     "text": [
      "\u001b[33mDEPRECATION: Configuring installation scheme with distutils config files is deprecated and will no longer work in the near future. If you are using a Homebrew or Linuxbrew Python, please see discussion at https://github.com/Homebrew/homebrew-core/issues/76621\u001b[0m\u001b[33m\n",
      "\u001b[0mCollecting matplotlib\n",
      "  Downloading matplotlib-3.6.1-cp39-cp39-macosx_10_12_x86_64.whl (7.3 MB)\n",
      "\u001b[2K     \u001b[90m━━━━━━━━━━━━━━━━━━━━━━━━━━━━━━━━━━━━━━━━\u001b[0m \u001b[32m7.3/7.3 MB\u001b[0m \u001b[31m8.2 MB/s\u001b[0m eta \u001b[36m0:00:00\u001b[0m00:01\u001b[0m00:01\u001b[0m\n",
      "\u001b[?25hCollecting kiwisolver>=1.0.1\n",
      "  Using cached kiwisolver-1.4.4-cp39-cp39-macosx_10_9_x86_64.whl (65 kB)\n",
      "Collecting contourpy>=1.0.1\n",
      "  Using cached contourpy-1.0.5-cp39-cp39-macosx_10_9_x86_64.whl (241 kB)\n",
      "Collecting fonttools>=4.22.0\n",
      "  Using cached fonttools-4.37.4-py3-none-any.whl (960 kB)\n",
      "Requirement already satisfied: packaging>=20.0 in /usr/local/lib/python3.9/site-packages (from matplotlib) (21.3)\n",
      "Requirement already satisfied: pyparsing>=2.2.1 in /usr/local/lib/python3.9/site-packages (from matplotlib) (3.0.6)\n",
      "Requirement already satisfied: numpy>=1.19 in /usr/local/lib/python3.9/site-packages (from matplotlib) (1.21.3)\n",
      "Collecting cycler>=0.10\n",
      "  Using cached cycler-0.11.0-py3-none-any.whl (6.4 kB)\n",
      "Requirement already satisfied: python-dateutil>=2.7 in /usr/local/lib/python3.9/site-packages (from matplotlib) (2.8.2)\n",
      "Requirement already satisfied: pillow>=6.2.0 in /usr/local/lib/python3.9/site-packages (from matplotlib) (8.4.0)\n",
      "Requirement already satisfied: six>=1.5 in /usr/local/lib/python3.9/site-packages (from python-dateutil>=2.7->matplotlib) (1.16.0)\n",
      "Installing collected packages: kiwisolver, fonttools, cycler, contourpy, matplotlib\n",
      "\u001b[33m  DEPRECATION: Configuring installation scheme with distutils config files is deprecated and will no longer work in the near future. If you are using a Homebrew or Linuxbrew Python, please see discussion at https://github.com/Homebrew/homebrew-core/issues/76621\u001b[0m\u001b[33m\n",
      "\u001b[0m\u001b[33m  DEPRECATION: Configuring installation scheme with distutils config files is deprecated and will no longer work in the near future. If you are using a Homebrew or Linuxbrew Python, please see discussion at https://github.com/Homebrew/homebrew-core/issues/76621\u001b[0m\u001b[33m\n",
      "\u001b[0m\u001b[33m  DEPRECATION: Configuring installation scheme with distutils config files is deprecated and will no longer work in the near future. If you are using a Homebrew or Linuxbrew Python, please see discussion at https://github.com/Homebrew/homebrew-core/issues/76621\u001b[0m\u001b[33m\n",
      "\u001b[0m\u001b[33m  DEPRECATION: Configuring installation scheme with distutils config files is deprecated and will no longer work in the near future. If you are using a Homebrew or Linuxbrew Python, please see discussion at https://github.com/Homebrew/homebrew-core/issues/76621\u001b[0m\u001b[33m\n",
      "\u001b[0m\u001b[33m  DEPRECATION: Configuring installation scheme with distutils config files is deprecated and will no longer work in the near future. If you are using a Homebrew or Linuxbrew Python, please see discussion at https://github.com/Homebrew/homebrew-core/issues/76621\u001b[0m\u001b[33m\n",
      "\u001b[0m\u001b[33mDEPRECATION: Configuring installation scheme with distutils config files is deprecated and will no longer work in the near future. If you are using a Homebrew or Linuxbrew Python, please see discussion at https://github.com/Homebrew/homebrew-core/issues/76621\u001b[0m\u001b[33m\n",
      "\u001b[0mSuccessfully installed contourpy-1.0.5 cycler-0.11.0 fonttools-4.37.4 kiwisolver-1.4.4 matplotlib-3.6.1\n",
      "\u001b[33mWARNING: There was an error checking the latest version of pip.\u001b[0m\u001b[33m\n",
      "\u001b[0mNote: you may need to restart the kernel to use updated packages.\n"
     ]
    }
   ],
   "source": [
    "pip install matplotlib"
   ]
  },
  {
   "cell_type": "code",
   "execution_count": 3,
   "id": "a936d4bb",
   "metadata": {},
   "outputs": [
    {
     "name": "stdout",
     "output_type": "stream",
     "text": [
      "Name: matplotlib\n",
      "Version: 3.6.1\n",
      "Summary: Python plotting package\n",
      "Home-page: https://matplotlib.org\n",
      "Author: John D. Hunter, Michael Droettboom\n",
      "Author-email: matplotlib-users@python.org\n",
      "License: PSF\n",
      "Location: /usr/local/lib/python3.9/site-packages\n",
      "Requires: contourpy, cycler, fonttools, kiwisolver, numpy, packaging, pillow, pyparsing, python-dateutil\n",
      "Required-by: \n",
      "Note: you may need to restart the kernel to use updated packages.\n"
     ]
    }
   ],
   "source": [
    "source /ve"
   ]
  },
  {
   "cell_type": "code",
   "execution_count": null,
   "id": "5f6295f5",
   "metadata": {},
   "outputs": [],
   "source": []
  }
 ],
 "metadata": {
  "kernelspec": {
   "display_name": "Python 3 (ipykernel)",
   "language": "python",
   "name": "python3"
  },
  "language_info": {
   "codemirror_mode": {
    "name": "ipython",
    "version": 3
   },
   "file_extension": ".py",
   "mimetype": "text/x-python",
   "name": "python",
   "nbconvert_exporter": "python",
   "pygments_lexer": "ipython3",
   "version": "3.9.13"
  }
 },
 "nbformat": 4,
 "nbformat_minor": 5
}
